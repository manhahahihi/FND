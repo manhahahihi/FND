{
 "cells": [
  {
   "cell_type": "code",
   "execution_count": 1,
   "metadata": {},
   "outputs": [
    {
     "name": "stderr",
     "output_type": "stream",
     "text": [
      "c:\\Users\\thanh\\anaconda3\\envs\\KLTN\\lib\\site-packages\\fuzzywuzzy\\fuzz.py:11: UserWarning: Using slow pure-python SequenceMatcher. Install python-Levenshtein to remove this warning\n",
      "  warnings.warn('Using slow pure-python SequenceMatcher. Install python-Levenshtein to remove this warning')\n"
     ]
    }
   ],
   "source": [
    "import csv\n",
    "import pandas as pd\n",
    "from fuzzywuzzy import fuzz \n",
    "\n",
    "def check_if_exists_with_fuzzy_matching(title, tag, content, file_path, threshold=80):\n",
    "    \"\"\"Checks if the given input values exist in a large CSV or XLSX file,\n",
    "    using fuzzy matching to handle potential variations in the data.\n",
    "\n",
    "    Args:\n",
    "        title (str): The title to check.\n",
    "        tag (str): The tag to check.\n",
    "        content (str): The content to check.\n",
    "        file_path (str): The path to the CSV or XLSX file.\n",
    "        threshold (int): The minimum similarity score for fuzzy matching (default: 80).\n",
    "\n",
    "    Returns:\n",
    "        bool: True if matching values are found in the file, False otherwise.\n",
    "        label (int): groundtruth label in the database\n",
    "    \"\"\"\n",
    "\n",
    "    try:\n",
    "        if file_path.endswith(\".csv\"):\n",
    "            for chunk in pd.read_csv(file_path, chunksize=100000):\n",
    "                for index, row in chunk.iterrows():\n",
    "                    if (fuzz.ratio(row['Title'], title) >= threshold and\n",
    "                        fuzz.ratio(row['Tag'], tag) >= threshold and\n",
    "                        fuzz.ratio(row['Content'], content) >= threshold):\n",
    "                        return True, row['Label']\n",
    "        else:\n",
    "            df = pd.read_excel(file_path, engine='openpyxl')\n",
    "            for index, row in df.iterrows():\n",
    "                if (fuzz.ratio(row['Title'], title) >= threshold and\n",
    "                    fuzz.ratio(row['Tag'], tag) >= threshold and\n",
    "                    fuzz.ratio(row['Content'], content) >= threshold):\n",
    "                    return True, row['Label']\n",
    "                \n",
    "        return False\n",
    "\n",
    "    except (FileNotFoundError, pd.errors.EmptyDataError) as e:\n",
    "        print(f\"Error: {e}\")\n",
    "        return False"
   ]
  },
  {
   "cell_type": "code",
   "execution_count": 2,
   "metadata": {},
   "outputs": [
    {
     "data": {
      "text/plain": [
       "False"
      ]
     },
     "execution_count": 2,
     "metadata": {},
     "output_type": "execute_result"
    }
   ],
   "source": [
    "news_title = \"Title: 4 ôtô của cư dân ở Sài Gòn bị mang đi cầm\"\n",
    "news_tag = \"Tag: Pháp luật\"\n",
    "news_content = \"\"\"Content: 4 ôtô của cư dân ở Sài Gòn bị mang đi cầm\n",
    "Cư dân ở quận 3, TP HCM, phát hiện 2 ôtô Mercedes và 2 chiếc khác gửi trong tầng giữ xe bị đem đi cầm cố tại tỉnh Bình Dương.\n",
    "Ba hôm trước, một số người ở chung cư trên đường Trường Sa, quận 3, xuống lấy ôtô đi làm thì phát hiện 4 chiếc bị mất. Họ cho biết, do tầng giữ xe chật nên giao chìa khóa ôtô cho các bảo vệ để tiện di chuyển, xắp xếp. Ban quản trị chung cư cùng Công an quận 3 xác định trách nhiệm thuộc về công ty bảo vệ - đơn vị được thuê trông giữ xe.\n",
    "Cảnh sát sau đó phát hiện những chiếc xe này được mang cầm cố tại chung cư ở phường Bình Chuẩn, TX Thuận An (tỉnh Bình Dương) và đã thu hồi.\n",
    "Làm việc với cảnh sát, đại diện công ty bảo vệ cho biết, người từng làm Đội trưởng đội bảo vệ và điều xe tại chung cư này đã thừa nhận hành vi đem 4 ôtô đi cầm. Tuy nhiên, nghi can hiện không thể liên lạc.\n",
    "Cơ quan điều tra đang truy tìm người này.\n",
    "Nhật Vy\n",
    "\"\"\"\n",
    "path_data = \"combined_offical_dataset.xlsx\"\n",
    "check_if_exists_with_fuzzy_matching(news_title, news_tag, news_content, path_data)"
   ]
  }
 ],
 "metadata": {
  "kernelspec": {
   "display_name": "KLTN",
   "language": "python",
   "name": "python3"
  },
  "language_info": {
   "codemirror_mode": {
    "name": "ipython",
    "version": 3
   },
   "file_extension": ".py",
   "mimetype": "text/x-python",
   "name": "python",
   "nbconvert_exporter": "python",
   "pygments_lexer": "ipython3",
   "version": "3.8.18"
  }
 },
 "nbformat": 4,
 "nbformat_minor": 2
}
